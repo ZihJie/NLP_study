{
 "cells": [
  {
   "cell_type": "code",
   "execution_count": 2,
   "metadata": {},
   "outputs": [
    {
     "name": "stderr",
     "output_type": "stream",
     "text": [
      "Using TensorFlow backend.\n"
     ]
    }
   ],
   "source": [
    "import numpy as np\n",
    "\n",
    "from keras.datasets import mnist\n",
    "from keras.utils import np_utils\n",
    "from keras.models import Sequential\n",
    "from keras.layers import SimpleRNN, Activation, Dense\n",
    "from keras.optimizers import Adam"
   ]
  },
  {
   "cell_type": "code",
   "execution_count": 3,
   "metadata": {},
   "outputs": [
    {
     "name": "stdout",
     "output_type": "stream",
     "text": [
      "Downloading data from https://s3.amazonaws.com/img-datasets/mnist.npz\n",
      "11493376/11490434 [==============================] - 9s 1us/step\n"
     ]
    }
   ],
   "source": [
    "# 固定亂數種子，使每次執行產生的亂數都一樣\n",
    "np.random.seed(1337)\n",
    "\n",
    "\n",
    "# 載入 MNIST 資料庫的訓練資料，並自動分為『訓練組』及『測試組』\n",
    "(X_train, y_train), (X_test, y_test) = mnist.load_data()\n",
    "\n",
    "# 將 training 的 input 資料轉為3維，並 normalize 把顏色控制在 0 ~ 1 之間\n",
    "X_train = X_train.reshape(-1, 28, 28) / 255.      \n",
    "X_test = X_test.reshape(-1, 28, 28) / 255.\n",
    "y_train = np_utils.to_categorical(y_train, num_classes=10)\n",
    "y_test = np_utils.to_categorical(y_test, num_classes=10)\n",
    "\n"
   ]
  },
  {
   "cell_type": "code",
   "execution_count": 4,
   "metadata": {},
   "outputs": [],
   "source": [
    "# 建立簡單的線性執行的模型\n",
    "model = Sequential()\n",
    "# 加 RNN 隱藏層(hidden layer)\n",
    "model.add(SimpleRNN(\n",
    "    # 如果後端使用tensorflow，batch_input_shape 的 batch_size 需設為 None.\n",
    "    # 否則執行 model.evaluate() 會有錯誤產生.\n",
    "    batch_input_shape=(None, 28, 28), \n",
    "    units= 50,\n",
    "    unroll=True,\n",
    ")) \n",
    "# 加 output 層\n",
    "model.add(Dense(units=10, kernel_initializer='normal', activation='softmax'))\n",
    "\n",
    "# 編譯: 選擇損失函數、優化方法及成效衡量方式\n",
    "model.compile(loss='categorical_crossentropy', optimizer='adam', metrics=['accuracy']) "
   ]
  },
  {
   "cell_type": "code",
   "execution_count": 5,
   "metadata": {},
   "outputs": [
    {
     "name": "stdout",
     "output_type": "stream",
     "text": [
      "test loss: 0.7176790237426758  test accuracy: 0.7767999768257141\n",
      "test loss: 0.585785448551178  test accuracy: 0.821399986743927\n",
      "test loss: 0.5059797167778015  test accuracy: 0.8442000150680542\n",
      "test loss: 0.4060920476913452  test accuracy: 0.8831999897956848\n",
      "test loss: 0.42506834864616394  test accuracy: 0.8744000196456909\n",
      "test loss: 0.3379894495010376  test accuracy: 0.9028000235557556\n",
      "test loss: 0.3486478924751282  test accuracy: 0.897599995136261\n",
      "test loss: 0.27185505628585815  test accuracy: 0.9228000044822693\n"
     ]
    }
   ],
   "source": [
    "# 一批訓練多少張圖片\n",
    "BATCH_SIZE = 50     \n",
    "BATCH_INDEX = 0     \n",
    "# 訓練模型 4001 次\n",
    "for step in range(1, 4001):\n",
    "    # data shape = (batch_num, steps, inputs/outputs)\n",
    "    X_batch = X_train[BATCH_INDEX: BATCH_INDEX+BATCH_SIZE, :, :]\n",
    "    Y_batch = y_train[BATCH_INDEX: BATCH_INDEX+BATCH_SIZE, :]\n",
    "    # 逐批訓練\n",
    "    loss = model.train_on_batch(X_batch, Y_batch)\n",
    "    BATCH_INDEX += BATCH_SIZE\n",
    "    BATCH_INDEX = 0 if BATCH_INDEX >= X_train.shape[0] else BATCH_INDEX\n",
    "\n",
    "    # 每 500 批，顯示測試的準確率\n",
    "    if step % 500 == 0:\n",
    "        # 模型評估\n",
    "        loss, accuracy = model.evaluate(X_test, y_test, batch_size=y_test.shape[0], \n",
    "            verbose=False)\n",
    "        print(\"test loss: {}  test accuracy: {}\".format(loss,accuracy))\n",
    "        "
   ]
  },
  {
   "cell_type": "code",
   "execution_count": 6,
   "metadata": {},
   "outputs": [
    {
     "name": "stdout",
     "output_type": "stream",
     "text": [
      "[7 2 1 0 4 1 4 9 4 9]\n"
     ]
    }
   ],
   "source": [
    "# 預測(prediction)\n",
    "X = X_test[0:10,:]\n",
    "predictions = model.predict_classes(X)\n",
    "# get prediction result\n",
    "print(predictions)\n"
   ]
  },
  {
   "cell_type": "code",
   "execution_count": 7,
   "metadata": {},
   "outputs": [],
   "source": [
    "# 模型結構存檔\n",
    "from keras.models import model_from_json\n",
    "json_string = model.to_json()\n",
    "with open(\"SimpleRNN.config\", \"w\") as text_file:\n",
    "    text_file.write(json_string)\n",
    "    \n",
    "# 模型訓練結果存檔\n",
    "model.save_weights(\"SimpleRNN.weight\")"
   ]
  },
  {
   "cell_type": "code",
   "execution_count": null,
   "metadata": {},
   "outputs": [],
   "source": []
  }
 ],
 "metadata": {
  "kernelspec": {
   "display_name": "Python 3",
   "language": "python",
   "name": "python3"
  },
  "language_info": {
   "codemirror_mode": {
    "name": "ipython",
    "version": 3
   },
   "file_extension": ".py",
   "mimetype": "text/x-python",
   "name": "python",
   "nbconvert_exporter": "python",
   "pygments_lexer": "ipython3",
   "version": "3.7.6"
  }
 },
 "nbformat": 4,
 "nbformat_minor": 4
}

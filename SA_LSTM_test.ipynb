{
 "cells": [
  {
   "cell_type": "code",
   "execution_count": 1,
   "metadata": {},
   "outputs": [
    {
     "name": "stderr",
     "output_type": "stream",
     "text": [
      "Using TensorFlow backend.\n"
     ]
    }
   ],
   "source": [
    "from keras.layers.core import Activation, Dense\n",
    "from keras.layers.embeddings import Embedding\n",
    "from keras.layers.recurrent import LSTM\n",
    "from keras.models import Sequential\n",
    "from keras.preprocessing import sequence\n",
    "from sklearn.model_selection import train_test_split\n",
    "import collections\n",
    "import nltk\n",
    "import numpy as np\n",
    "from keras.models import load_model"
   ]
  },
  {
   "cell_type": "code",
   "execution_count": 3,
   "metadata": {},
   "outputs": [
    {
     "name": "stderr",
     "output_type": "stream",
     "text": [
      "[nltk_data] Downloading package punkt to /home/zihjie/nltk_data...\n",
      "[nltk_data]   Unzipping tokenizers/punkt.zip.\n"
     ]
    },
    {
     "data": {
      "text/plain": [
       "True"
      ]
     },
     "execution_count": 3,
     "metadata": {},
     "output_type": "execute_result"
    }
   ],
   "source": [
    "nltk.download('punkt')"
   ]
  },
  {
   "cell_type": "code",
   "execution_count": 4,
   "metadata": {},
   "outputs": [
    {
     "name": "stdout",
     "output_type": "stream",
     "text": [
      "max_len  42\n",
      "nb_words  2326\n"
     ]
    }
   ],
   "source": [
    "## 探索數據分析(EDA)\n",
    "# 計算訓練資料的字句最大字數\n",
    "maxlen = 0\n",
    "word_freqs = collections.Counter()\n",
    "num_recs = 0\n",
    "with open('./Sentiment1_training.txt','r+', encoding='UTF-8') as f:\n",
    "    for line in f:\n",
    "        label, sentence = line.strip().split(\"\\t\")\n",
    "        words = nltk.word_tokenize(sentence.lower())\n",
    "        if len(words) > maxlen:\n",
    "            maxlen = len(words)\n",
    "        for word in words:\n",
    "            word_freqs[word] += 1\n",
    "        num_recs += 1\n",
    "print('max_len ',maxlen)\n",
    "print('nb_words ', len(word_freqs))"
   ]
  },
  {
   "cell_type": "code",
   "execution_count": 7,
   "metadata": {},
   "outputs": [],
   "source": [
    "## 準備數據\n",
    "MAX_FEATURES = 2000\n",
    "MAX_SENTENCE_LENGTH = 40\n",
    "vocab_size = min(MAX_FEATURES, len(word_freqs)) + 2\n",
    "word_index = {x[0]: i+2 for i, x in enumerate(word_freqs.most_common(MAX_FEATURES))}\n",
    "word_index[\"PAD\"] = 0\n",
    "word_index[\"UNK\"] = 1\n",
    "index2word = {v:k for k, v in word_index.items()}\n",
    "X = np.empty(num_recs,dtype=list)\n",
    "y = np.zeros(num_recs)\n",
    "i=0"
   ]
  },
  {
   "cell_type": "code",
   "execution_count": 8,
   "metadata": {},
   "outputs": [],
   "source": [
    "# 讀取訓練資料，將每一單字以 dictionary 儲存\n",
    "with open('./Sentiment1_training.txt','r+', encoding='UTF-8') as f:\n",
    "    for line in f:\n",
    "        label, sentence = line.strip().split(\"\\t\")\n",
    "        words = nltk.word_tokenize(sentence.lower())\n",
    "        seqs = []\n",
    "        for word in words:\n",
    "            if word in word_index:\n",
    "                seqs.append(word_index[word])\n",
    "            else:\n",
    "                seqs.append(word_index[\"UNK\"])\n",
    "        X[i] = seqs\n",
    "        y[i] = int(label)\n",
    "        i += 1"
   ]
  },
  {
   "cell_type": "code",
   "execution_count": 9,
   "metadata": {},
   "outputs": [],
   "source": [
    "# 字句長度不足補空白        \n",
    "X = sequence.pad_sequences(X, maxlen=MAX_SENTENCE_LENGTH)\n",
    "# 資料劃分訓練組及測試組\n",
    "Xtrain, Xtest, ytrain, ytest = train_test_split(X, y, test_size=0.2, random_state=42)\n",
    "# 模型構建\n",
    "EMBEDDING_SIZE = 128\n",
    "HIDDEN_LAYER_SIZE = 64\n",
    "BATCH_SIZE = 32\n",
    "NUM_EPOCHS = 10\n",
    "model = Sequential()\n",
    "# 加『嵌入』層\n",
    "model.add(Embedding(vocab_size, EMBEDDING_SIZE,input_length=MAX_SENTENCE_LENGTH))\n",
    "# 加『LSTM』層\n",
    "model.add(LSTM(HIDDEN_LAYER_SIZE, dropout=0.2, recurrent_dropout=0.2))\n",
    "model.add(Dense(1))\n",
    "model.add(Activation(\"sigmoid\"))\n",
    "# binary_crossentropy:二分法\n",
    "model.compile(loss=\"binary_crossentropy\", optimizer=\"adam\",metrics=[\"accuracy\"])"
   ]
  },
  {
   "cell_type": "code",
   "execution_count": 10,
   "metadata": {},
   "outputs": [
    {
     "name": "stderr",
     "output_type": "stream",
     "text": [
      "/home/zihjie/anaconda3/lib/python3.7/site-packages/tensorflow/python/framework/indexed_slices.py:434: UserWarning: Converting sparse IndexedSlices to a dense Tensor of unknown shape. This may consume a large amount of memory.\n",
      "  \"Converting sparse IndexedSlices to a dense Tensor of unknown shape. \"\n"
     ]
    },
    {
     "name": "stdout",
     "output_type": "stream",
     "text": [
      "Train on 5668 samples, validate on 1418 samples\n",
      "Epoch 1/10\n",
      "5668/5668 [==============================] - 6s 1ms/step - loss: 0.2381 - accuracy: 0.8927 - val_loss: 0.0608 - val_accuracy: 0.9795\n",
      "Epoch 2/10\n",
      "5668/5668 [==============================] - 5s 959us/step - loss: 0.0231 - accuracy: 0.9942 - val_loss: 0.0508 - val_accuracy: 0.9824\n",
      "Epoch 3/10\n",
      "5668/5668 [==============================] - 5s 969us/step - loss: 0.0096 - accuracy: 0.9972 - val_loss: 0.0565 - val_accuracy: 0.9788\n",
      "Epoch 4/10\n",
      "5668/5668 [==============================] - 5s 970us/step - loss: 0.0064 - accuracy: 0.9982 - val_loss: 0.0556 - val_accuracy: 0.9838\n",
      "Epoch 5/10\n",
      "5668/5668 [==============================] - 6s 971us/step - loss: 0.0031 - accuracy: 0.9995 - val_loss: 0.0540 - val_accuracy: 0.9887\n",
      "Epoch 6/10\n",
      "5668/5668 [==============================] - 5s 937us/step - loss: 0.0016 - accuracy: 0.9998 - val_loss: 0.0494 - val_accuracy: 0.9880\n",
      "Epoch 7/10\n",
      "5668/5668 [==============================] - 6s 976us/step - loss: 0.0012 - accuracy: 0.9998 - val_loss: 0.0518 - val_accuracy: 0.9873\n",
      "Epoch 8/10\n",
      "5668/5668 [==============================] - 5s 968us/step - loss: 0.0018 - accuracy: 0.9996 - val_loss: 0.0592 - val_accuracy: 0.9852\n",
      "Epoch 9/10\n",
      "5668/5668 [==============================] - 5s 968us/step - loss: 0.0018 - accuracy: 0.9996 - val_loss: 0.0651 - val_accuracy: 0.9859\n",
      "Epoch 10/10\n",
      "5668/5668 [==============================] - 5s 958us/step - loss: 0.0011 - accuracy: 0.9996 - val_loss: 0.0619 - val_accuracy: 0.9852\n"
     ]
    },
    {
     "data": {
      "text/plain": [
       "<keras.callbacks.callbacks.History at 0x7ff1ec325cd0>"
      ]
     },
     "execution_count": 10,
     "metadata": {},
     "output_type": "execute_result"
    }
   ],
   "source": [
    "# 模型訓練\n",
    "model.fit(Xtrain, ytrain, batch_size=BATCH_SIZE, epochs=NUM_EPOCHS,validation_data=(Xtest, ytest))\n"
   ]
  },
  {
   "cell_type": "code",
   "execution_count": 11,
   "metadata": {},
   "outputs": [
    {
     "name": "stdout",
     "output_type": "stream",
     "text": [
      "1418/1418 [==============================] - 0s 159us/step\n",
      "\n",
      "Test score: 0.062, accuracy: 0.985\n",
      "預測   真實      句子\n",
      " 1      1     i am going to start reading the harry potter series again because that is one awesome story .\n",
      " 1      1     da vinci code is awesome ! !\n",
      " 0      0     da vinci code sucked but the story and ideas were very interesting ...\n",
      " 1      0     then we realized they 'd given us tickets for the wrong movie , mission impossible 3 , and our actual movie was on the other side .\n",
      " 1      1     da vinci code is awesome ! !\n"
     ]
    }
   ],
   "source": [
    "# 預測\n",
    "score, acc = model.evaluate(Xtest, ytest, batch_size=BATCH_SIZE)\n",
    "print(\"\\nTest score: %.3f, accuracy: %.3f\" % (score, acc))\n",
    "print('{}   {}      {}'.format('預測','真實','句子'))\n",
    "for i in range(5):\n",
    "    idx = np.random.randint(len(Xtest))\n",
    "    xtest = Xtest[idx].reshape(1,MAX_SENTENCE_LENGTH)\n",
    "    ylabel = ytest[idx]\n",
    "    ypred = model.predict(xtest)[0][0]\n",
    "    sent = \" \".join([index2word[x] for x in xtest[0] if x != 0])\n",
    "    print(' {}      {}     {}'.format(int(round(ypred)), int(ylabel), sent))"
   ]
  },
  {
   "cell_type": "code",
   "execution_count": 12,
   "metadata": {},
   "outputs": [],
   "source": [
    "# 模型存檔\n",
    "model.save('Sentiment1.h5')  # creates a HDF5 file 'model.h5'\n",
    "    "
   ]
  },
  {
   "cell_type": "code",
   "execution_count": 13,
   "metadata": {},
   "outputs": [],
   "source": [
    "##### 自己輸入測試\n",
    "INPUT_SENTENCES = ['I love it.','It is so boring.', 'I love it althougn it is so boring.']\n",
    "XX = np.empty(len(INPUT_SENTENCES),dtype=list)"
   ]
  },
  {
   "cell_type": "code",
   "execution_count": 14,
   "metadata": {},
   "outputs": [],
   "source": [
    "# 轉換文字為數值\n",
    "i=0\n",
    "for sentence in  INPUT_SENTENCES:\n",
    "    words = nltk.word_tokenize(sentence.lower())\n",
    "    seq = []\n",
    "    for word in words:\n",
    "        if word in word_index:\n",
    "            seq.append(word_index[word])\n",
    "        else:\n",
    "            seq.append(word_index['UNK'])\n",
    "    XX[i] = seq\n",
    "    i+=1\n",
    "\n",
    "XX = sequence.pad_sequences(XX, maxlen=MAX_SENTENCE_LENGTH)"
   ]
  },
  {
   "cell_type": "code",
   "execution_count": 15,
   "metadata": {},
   "outputs": [
    {
     "name": "stdout",
     "output_type": "stream",
     "text": [
      "正面   I love it.\n",
      "負面   It is so boring.\n",
      "負面   I love it althougn it is so boring.\n"
     ]
    }
   ],
   "source": [
    "# 預測，並將結果四捨五入，轉換為 0 或 1\n",
    "labels = [int(round(x[0])) for x in model.predict(XX) ]\n",
    "label2word = {1:'正面', 0:'負面'}\n",
    "# 顯示結果\n",
    "for i in range(len(INPUT_SENTENCES)):\n",
    "    print('{}   {}'.format(label2word[labels[i]], INPUT_SENTENCES[i]))"
   ]
  },
  {
   "cell_type": "code",
   "execution_count": null,
   "metadata": {},
   "outputs": [],
   "source": []
  }
 ],
 "metadata": {
  "kernelspec": {
   "display_name": "Python 3",
   "language": "python",
   "name": "python3"
  },
  "language_info": {
   "codemirror_mode": {
    "name": "ipython",
    "version": 3
   },
   "file_extension": ".py",
   "mimetype": "text/x-python",
   "name": "python",
   "nbconvert_exporter": "python",
   "pygments_lexer": "ipython3",
   "version": "3.7.6"
  }
 },
 "nbformat": 4,
 "nbformat_minor": 4
}

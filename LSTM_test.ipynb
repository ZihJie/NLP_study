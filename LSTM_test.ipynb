{
 "cells": [
  {
   "cell_type": "code",
   "execution_count": 1,
   "metadata": {},
   "outputs": [
    {
     "name": "stderr",
     "output_type": "stream",
     "text": [
      "Using TensorFlow backend.\n"
     ]
    }
   ],
   "source": [
    "# 導入函式庫\n",
    "import numpy as np\n",
    "from keras.datasets import mnist\n",
    "from keras.utils import np_utils\n",
    "from keras.models import Sequential\n",
    "from keras.layers import LSTM, Activation, Dense\n",
    "from keras.optimizers import Adam"
   ]
  },
  {
   "cell_type": "code",
   "execution_count": 2,
   "metadata": {},
   "outputs": [],
   "source": [
    "# 固定亂數種子，使每次執行產生的亂數都一樣\n",
    "np.random.seed(1337)\n",
    "\n",
    "\n",
    "# 載入 MNIST 資料庫的訓練資料，並自動分為『訓練組』及『測試組』\n",
    "(X_train, y_train), (X_test, y_test) = mnist.load_data()\n",
    "\n",
    "# 將 training 的 input 資料轉為3維，並 normalize 把顏色控制在 0 ~ 1 之間\n",
    "X_train = X_train.reshape(-1, 28, 28) / 255.      \n",
    "X_test = X_test.reshape(-1, 28, 28) / 255.\n",
    "y_train = np_utils.to_categorical(y_train, num_classes=10)\n",
    "y_test = np_utils.to_categorical(y_test, num_classes=10)\n",
    "\n",
    "\n"
   ]
  },
  {
   "cell_type": "code",
   "execution_count": 12,
   "metadata": {},
   "outputs": [
    {
     "data": {
      "text/plain": [
       "60000"
      ]
     },
     "execution_count": 12,
     "metadata": {},
     "output_type": "execute_result"
    }
   ],
   "source": [
    "len(X_train)"
   ]
  },
  {
   "cell_type": "code",
   "execution_count": 3,
   "metadata": {},
   "outputs": [],
   "source": [
    "# 建立簡單的線性執行的模型\n",
    "model = Sequential()\n",
    "# 加 RNN 隱藏層(hidden layer)\n",
    "model.add(LSTM(\n",
    "    # 如果後端使用tensorflow，batch_input_shape 的 batch_size 需設為 None.\n",
    "    # 否則執行 model.evaluate() 會有錯誤產生.\n",
    "    batch_input_shape=(None, 28, 28), \n",
    "    units= 50,\n",
    "    unroll=True,\n",
    ")) \n",
    "# 加 output 層\n",
    "model.add(Dense(units=10, kernel_initializer='normal', activation='softmax'))\n",
    "\n",
    "# 編譯: 選擇損失函數、優化方法及成效衡量方式\n",
    "LR = 0.001          # Learning Rate\n",
    "adam = Adam(LR)\n",
    "model.compile(loss='categorical_crossentropy', optimizer='adam', metrics=['accuracy']) \n"
   ]
  },
  {
   "cell_type": "code",
   "execution_count": 4,
   "metadata": {},
   "outputs": [
    {
     "name": "stdout",
     "output_type": "stream",
     "text": [
      "test loss: 0.47009238600730896  test accuracy: 0.8519999980926514\n",
      "test loss: 0.2743362784385681  test accuracy: 0.9168999791145325\n",
      "test loss: 0.24428926408290863  test accuracy: 0.9254000186920166\n",
      "test loss: 0.21244916319847107  test accuracy: 0.9368000030517578\n",
      "test loss: 0.14810582995414734  test accuracy: 0.9559999704360962\n",
      "test loss: 0.15032567083835602  test accuracy: 0.9535999894142151\n",
      "test loss: 0.12121572345495224  test accuracy: 0.9642999768257141\n",
      "test loss: 0.10908491164445877  test accuracy: 0.9689000248908997\n"
     ]
    }
   ],
   "source": [
    "# 一批訓練多少張圖片\n",
    "BATCH_SIZE = 50     \n",
    "BATCH_INDEX = 0     \n",
    "# 訓練模型 4001 次\n",
    "for step in range(1, 4001):\n",
    "    # data shape = (batch_num, steps, inputs/outputs)\n",
    "    X_batch = X_train[BATCH_INDEX: BATCH_INDEX+BATCH_SIZE, :, :]\n",
    "    Y_batch = y_train[BATCH_INDEX: BATCH_INDEX+BATCH_SIZE, :]\n",
    "    # 逐批訓練\n",
    "    loss = model.train_on_batch(X_batch, Y_batch)\n",
    "    BATCH_INDEX += BATCH_SIZE\n",
    "    BATCH_INDEX = 0 if BATCH_INDEX >= X_train.shape[0] else BATCH_INDEX\n",
    "\n",
    "    # 每 500 批，顯示測試的準確率\n",
    "    if step % 500 == 0:\n",
    "        # 模型評估\n",
    "        loss, accuracy = model.evaluate(X_test, y_test, batch_size=y_test.shape[0], \n",
    "            verbose=False)\n",
    "        print(\"test loss: {}  test accuracy: {}\".format(loss,accuracy))\n",
    "        "
   ]
  },
  {
   "cell_type": "code",
   "execution_count": 5,
   "metadata": {},
   "outputs": [
    {
     "name": "stdout",
     "output_type": "stream",
     "text": [
      "[7 2 1 0 4 1 4 9 5 9]\n"
     ]
    }
   ],
   "source": [
    "# 預測(prediction)\n",
    "X = X_test[0:10,:]\n",
    "predictions = model.predict_classes(X)\n",
    "# get prediction result\n",
    "print(predictions)\n"
   ]
  },
  {
   "cell_type": "code",
   "execution_count": 6,
   "metadata": {},
   "outputs": [],
   "source": [
    "# 模型結構存檔\n",
    "from keras.models import model_from_json\n",
    "json_string = model.to_json()\n",
    "with open(\"LSTM.config\", \"w\") as text_file:\n",
    "    text_file.write(json_string)\n",
    "    \n",
    "# 模型訓練結果存檔\n",
    "model.save_weights(\"LSTM.weight\")"
   ]
  },
  {
   "cell_type": "code",
   "execution_count": null,
   "metadata": {},
   "outputs": [],
   "source": []
  }
 ],
 "metadata": {
  "kernelspec": {
   "display_name": "Python 3",
   "language": "python",
   "name": "python3"
  },
  "language_info": {
   "codemirror_mode": {
    "name": "ipython",
    "version": 3
   },
   "file_extension": ".py",
   "mimetype": "text/x-python",
   "name": "python",
   "nbconvert_exporter": "python",
   "pygments_lexer": "ipython3",
   "version": "3.7.6"
  }
 },
 "nbformat": 4,
 "nbformat_minor": 4
}
